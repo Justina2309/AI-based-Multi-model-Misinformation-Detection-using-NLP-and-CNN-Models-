{
  "nbformat": 4,
  "nbformat_minor": 0,
  "metadata": {
    "colab": {
      "provenance": [],
      "gpuType": "T4"
    },
    "kernelspec": {
      "name": "python3",
      "display_name": "Python 3"
    },
    "language_info": {
      "name": "python"
    },
    "accelerator": "GPU"
  },
  "cells": [
    {
      "cell_type": "code",
      "execution_count": null,
      "metadata": {
        "colab": {
          "base_uri": "https://localhost:8080/"
        },
        "id": "-KgLh2gW1NCs",
        "outputId": "733fca32-5a91-484b-94a4-327aa9f1e007"
      },
      "outputs": [
        {
          "output_type": "stream",
          "name": "stdout",
          "text": [
            "Requirement already satisfied: torch in /usr/local/lib/python3.12/dist-packages (2.8.0+cu126)\n",
            "Requirement already satisfied: torchvision in /usr/local/lib/python3.12/dist-packages (0.23.0+cu126)\n",
            "Requirement already satisfied: transformers in /usr/local/lib/python3.12/dist-packages (4.56.1)\n",
            "Requirement already satisfied: scikit-learn in /usr/local/lib/python3.12/dist-packages (1.6.1)\n",
            "Requirement already satisfied: pandas in /usr/local/lib/python3.12/dist-packages (2.2.2)\n",
            "Requirement already satisfied: tqdm in /usr/local/lib/python3.12/dist-packages (4.67.1)\n",
            "Requirement already satisfied: pillow in /usr/local/lib/python3.12/dist-packages (11.3.0)\n",
            "Requirement already satisfied: requests in /usr/local/lib/python3.12/dist-packages (2.32.4)\n",
            "Requirement already satisfied: gradio in /usr/local/lib/python3.12/dist-packages (5.44.1)\n",
            "Requirement already satisfied: seaborn in /usr/local/lib/python3.12/dist-packages (0.13.2)\n",
            "Requirement already satisfied: matplotlib in /usr/local/lib/python3.12/dist-packages (3.10.0)\n",
            "Requirement already satisfied: filelock in /usr/local/lib/python3.12/dist-packages (from torch) (3.19.1)\n",
            "Requirement already satisfied: typing-extensions>=4.10.0 in /usr/local/lib/python3.12/dist-packages (from torch) (4.15.0)\n",
            "Requirement already satisfied: setuptools in /usr/local/lib/python3.12/dist-packages (from torch) (75.2.0)\n",
            "Requirement already satisfied: sympy>=1.13.3 in /usr/local/lib/python3.12/dist-packages (from torch) (1.13.3)\n",
            "Requirement already satisfied: networkx in /usr/local/lib/python3.12/dist-packages (from torch) (3.5)\n",
            "Requirement already satisfied: jinja2 in /usr/local/lib/python3.12/dist-packages (from torch) (3.1.6)\n",
            "Requirement already satisfied: fsspec in /usr/local/lib/python3.12/dist-packages (from torch) (2025.3.0)\n",
            "Requirement already satisfied: nvidia-cuda-nvrtc-cu12==12.6.77 in /usr/local/lib/python3.12/dist-packages (from torch) (12.6.77)\n",
            "Requirement already satisfied: nvidia-cuda-runtime-cu12==12.6.77 in /usr/local/lib/python3.12/dist-packages (from torch) (12.6.77)\n",
            "Requirement already satisfied: nvidia-cuda-cupti-cu12==12.6.80 in /usr/local/lib/python3.12/dist-packages (from torch) (12.6.80)\n",
            "Requirement already satisfied: nvidia-cudnn-cu12==9.10.2.21 in /usr/local/lib/python3.12/dist-packages (from torch) (9.10.2.21)\n",
            "Requirement already satisfied: nvidia-cublas-cu12==12.6.4.1 in /usr/local/lib/python3.12/dist-packages (from torch) (12.6.4.1)\n",
            "Requirement already satisfied: nvidia-cufft-cu12==11.3.0.4 in /usr/local/lib/python3.12/dist-packages (from torch) (11.3.0.4)\n",
            "Requirement already satisfied: nvidia-curand-cu12==10.3.7.77 in /usr/local/lib/python3.12/dist-packages (from torch) (10.3.7.77)\n",
            "Requirement already satisfied: nvidia-cusolver-cu12==11.7.1.2 in /usr/local/lib/python3.12/dist-packages (from torch) (11.7.1.2)\n",
            "Requirement already satisfied: nvidia-cusparse-cu12==12.5.4.2 in /usr/local/lib/python3.12/dist-packages (from torch) (12.5.4.2)\n",
            "Requirement already satisfied: nvidia-cusparselt-cu12==0.7.1 in /usr/local/lib/python3.12/dist-packages (from torch) (0.7.1)\n",
            "Requirement already satisfied: nvidia-nccl-cu12==2.27.3 in /usr/local/lib/python3.12/dist-packages (from torch) (2.27.3)\n",
            "Requirement already satisfied: nvidia-nvtx-cu12==12.6.77 in /usr/local/lib/python3.12/dist-packages (from torch) (12.6.77)\n",
            "Requirement already satisfied: nvidia-nvjitlink-cu12==12.6.85 in /usr/local/lib/python3.12/dist-packages (from torch) (12.6.85)\n",
            "Requirement already satisfied: nvidia-cufile-cu12==1.11.1.6 in /usr/local/lib/python3.12/dist-packages (from torch) (1.11.1.6)\n",
            "Requirement already satisfied: triton==3.4.0 in /usr/local/lib/python3.12/dist-packages (from torch) (3.4.0)\n",
            "Requirement already satisfied: numpy in /usr/local/lib/python3.12/dist-packages (from torchvision) (2.0.2)\n",
            "Requirement already satisfied: huggingface-hub<1.0,>=0.34.0 in /usr/local/lib/python3.12/dist-packages (from transformers) (0.34.4)\n",
            "Requirement already satisfied: packaging>=20.0 in /usr/local/lib/python3.12/dist-packages (from transformers) (25.0)\n",
            "Requirement already satisfied: pyyaml>=5.1 in /usr/local/lib/python3.12/dist-packages (from transformers) (6.0.2)\n",
            "Requirement already satisfied: regex!=2019.12.17 in /usr/local/lib/python3.12/dist-packages (from transformers) (2024.11.6)\n",
            "Requirement already satisfied: tokenizers<=0.23.0,>=0.22.0 in /usr/local/lib/python3.12/dist-packages (from transformers) (0.22.0)\n",
            "Requirement already satisfied: safetensors>=0.4.3 in /usr/local/lib/python3.12/dist-packages (from transformers) (0.6.2)\n",
            "Requirement already satisfied: scipy>=1.6.0 in /usr/local/lib/python3.12/dist-packages (from scikit-learn) (1.16.1)\n",
            "Requirement already satisfied: joblib>=1.2.0 in /usr/local/lib/python3.12/dist-packages (from scikit-learn) (1.5.2)\n",
            "Requirement already satisfied: threadpoolctl>=3.1.0 in /usr/local/lib/python3.12/dist-packages (from scikit-learn) (3.6.0)\n",
            "Requirement already satisfied: python-dateutil>=2.8.2 in /usr/local/lib/python3.12/dist-packages (from pandas) (2.9.0.post0)\n",
            "Requirement already satisfied: pytz>=2020.1 in /usr/local/lib/python3.12/dist-packages (from pandas) (2025.2)\n",
            "Requirement already satisfied: tzdata>=2022.7 in /usr/local/lib/python3.12/dist-packages (from pandas) (2025.2)\n",
            "Requirement already satisfied: charset_normalizer<4,>=2 in /usr/local/lib/python3.12/dist-packages (from requests) (3.4.3)\n",
            "Requirement already satisfied: idna<4,>=2.5 in /usr/local/lib/python3.12/dist-packages (from requests) (3.10)\n",
            "Requirement already satisfied: urllib3<3,>=1.21.1 in /usr/local/lib/python3.12/dist-packages (from requests) (2.5.0)\n",
            "Requirement already satisfied: certifi>=2017.4.17 in /usr/local/lib/python3.12/dist-packages (from requests) (2025.8.3)\n",
            "Requirement already satisfied: aiofiles<25.0,>=22.0 in /usr/local/lib/python3.12/dist-packages (from gradio) (24.1.0)\n",
            "Requirement already satisfied: anyio<5.0,>=3.0 in /usr/local/lib/python3.12/dist-packages (from gradio) (4.10.0)\n",
            "Requirement already satisfied: brotli>=1.1.0 in /usr/local/lib/python3.12/dist-packages (from gradio) (1.1.0)\n",
            "Requirement already satisfied: fastapi<1.0,>=0.115.2 in /usr/local/lib/python3.12/dist-packages (from gradio) (0.116.1)\n",
            "Requirement already satisfied: ffmpy in /usr/local/lib/python3.12/dist-packages (from gradio) (0.6.1)\n",
            "Requirement already satisfied: gradio-client==1.12.1 in /usr/local/lib/python3.12/dist-packages (from gradio) (1.12.1)\n",
            "Requirement already satisfied: groovy~=0.1 in /usr/local/lib/python3.12/dist-packages (from gradio) (0.1.2)\n",
            "Requirement already satisfied: httpx<1.0,>=0.24.1 in /usr/local/lib/python3.12/dist-packages (from gradio) (0.28.1)\n",
            "Requirement already satisfied: markupsafe<4.0,>=2.0 in /usr/local/lib/python3.12/dist-packages (from gradio) (3.0.2)\n",
            "Requirement already satisfied: orjson~=3.0 in /usr/local/lib/python3.12/dist-packages (from gradio) (3.11.3)\n",
            "Requirement already satisfied: pydantic<2.12,>=2.0 in /usr/local/lib/python3.12/dist-packages (from gradio) (2.11.7)\n",
            "Requirement already satisfied: pydub in /usr/local/lib/python3.12/dist-packages (from gradio) (0.25.1)\n",
            "Requirement already satisfied: python-multipart>=0.0.18 in /usr/local/lib/python3.12/dist-packages (from gradio) (0.0.20)\n",
            "Requirement already satisfied: ruff>=0.9.3 in /usr/local/lib/python3.12/dist-packages (from gradio) (0.12.12)\n",
            "Requirement already satisfied: safehttpx<0.2.0,>=0.1.6 in /usr/local/lib/python3.12/dist-packages (from gradio) (0.1.6)\n",
            "Requirement already satisfied: semantic-version~=2.0 in /usr/local/lib/python3.12/dist-packages (from gradio) (2.10.0)\n",
            "Requirement already satisfied: starlette<1.0,>=0.40.0 in /usr/local/lib/python3.12/dist-packages (from gradio) (0.47.3)\n",
            "Requirement already satisfied: tomlkit<0.14.0,>=0.12.0 in /usr/local/lib/python3.12/dist-packages (from gradio) (0.13.3)\n",
            "Requirement already satisfied: typer<1.0,>=0.12 in /usr/local/lib/python3.12/dist-packages (from gradio) (0.17.4)\n",
            "Requirement already satisfied: uvicorn>=0.14.0 in /usr/local/lib/python3.12/dist-packages (from gradio) (0.35.0)\n",
            "Requirement already satisfied: websockets<16.0,>=10.0 in /usr/local/lib/python3.12/dist-packages (from gradio-client==1.12.1->gradio) (15.0.1)\n",
            "Requirement already satisfied: contourpy>=1.0.1 in /usr/local/lib/python3.12/dist-packages (from matplotlib) (1.3.3)\n",
            "Requirement already satisfied: cycler>=0.10 in /usr/local/lib/python3.12/dist-packages (from matplotlib) (0.12.1)\n",
            "Requirement already satisfied: fonttools>=4.22.0 in /usr/local/lib/python3.12/dist-packages (from matplotlib) (4.59.2)\n",
            "Requirement already satisfied: kiwisolver>=1.3.1 in /usr/local/lib/python3.12/dist-packages (from matplotlib) (1.4.9)\n",
            "Requirement already satisfied: pyparsing>=2.3.1 in /usr/local/lib/python3.12/dist-packages (from matplotlib) (3.2.3)\n",
            "Requirement already satisfied: sniffio>=1.1 in /usr/local/lib/python3.12/dist-packages (from anyio<5.0,>=3.0->gradio) (1.3.1)\n",
            "Requirement already satisfied: httpcore==1.* in /usr/local/lib/python3.12/dist-packages (from httpx<1.0,>=0.24.1->gradio) (1.0.9)\n",
            "Requirement already satisfied: h11>=0.16 in /usr/local/lib/python3.12/dist-packages (from httpcore==1.*->httpx<1.0,>=0.24.1->gradio) (0.16.0)\n",
            "Requirement already satisfied: hf-xet<2.0.0,>=1.1.3 in /usr/local/lib/python3.12/dist-packages (from huggingface-hub<1.0,>=0.34.0->transformers) (1.1.9)\n",
            "Requirement already satisfied: annotated-types>=0.6.0 in /usr/local/lib/python3.12/dist-packages (from pydantic<2.12,>=2.0->gradio) (0.7.0)\n",
            "Requirement already satisfied: pydantic-core==2.33.2 in /usr/local/lib/python3.12/dist-packages (from pydantic<2.12,>=2.0->gradio) (2.33.2)\n",
            "Requirement already satisfied: typing-inspection>=0.4.0 in /usr/local/lib/python3.12/dist-packages (from pydantic<2.12,>=2.0->gradio) (0.4.1)\n",
            "Requirement already satisfied: six>=1.5 in /usr/local/lib/python3.12/dist-packages (from python-dateutil>=2.8.2->pandas) (1.17.0)\n",
            "Requirement already satisfied: mpmath<1.4,>=1.1.0 in /usr/local/lib/python3.12/dist-packages (from sympy>=1.13.3->torch) (1.3.0)\n",
            "Requirement already satisfied: click>=8.0.0 in /usr/local/lib/python3.12/dist-packages (from typer<1.0,>=0.12->gradio) (8.2.1)\n",
            "Requirement already satisfied: shellingham>=1.3.0 in /usr/local/lib/python3.12/dist-packages (from typer<1.0,>=0.12->gradio) (1.5.4)\n",
            "Requirement already satisfied: rich>=10.11.0 in /usr/local/lib/python3.12/dist-packages (from typer<1.0,>=0.12->gradio) (13.9.4)\n",
            "Requirement already satisfied: markdown-it-py>=2.2.0 in /usr/local/lib/python3.12/dist-packages (from rich>=10.11.0->typer<1.0,>=0.12->gradio) (4.0.0)\n",
            "Requirement already satisfied: pygments<3.0.0,>=2.13.0 in /usr/local/lib/python3.12/dist-packages (from rich>=10.11.0->typer<1.0,>=0.12->gradio) (2.19.2)\n",
            "Requirement already satisfied: mdurl~=0.1 in /usr/local/lib/python3.12/dist-packages (from markdown-it-py>=2.2.0->rich>=10.11.0->typer<1.0,>=0.12->gradio) (0.1.2)\n"
          ]
        }
      ],
      "source": [
        "# ==============================\n",
        "# 1. Install Dependencies & Imports\n",
        "# ==============================\n",
        "!pip install torch torchvision transformers scikit-learn pandas tqdm pillow requests gradio seaborn matplotlib\n",
        "\n",
        "import os\n",
        "import torch\n",
        "import random\n",
        "import numpy as np\n",
        "import pandas as pd\n",
        "import requests\n",
        "from tqdm.notebook import tqdm\n",
        "from getpass import getpass\n",
        "\n",
        "import torch.nn as nn\n",
        "from torch.utils.data import Dataset, DataLoader\n",
        "from sklearn.model_selection import train_test_split, StratifiedKFold\n",
        "from sklearn.metrics import confusion_matrix, accuracy_score\n",
        "\n",
        "from transformers import BertTokenizer, BertModel\n",
        "from torchvision import transforms\n",
        "from torchvision.models import resnet50\n",
        "from PIL import Image\n",
        "\n",
        "import gradio as gr\n",
        "import seaborn as sns\n",
        "import matplotlib.pyplot as plt"
      ]
    },
    {
      "cell_type": "code",
      "source": [
        "# ==============================\n",
        "# 2. Configuration & Drive Mount\n",
        "# ==============================\n",
        "# Reproducibility and device setup\n",
        "seed = 42\n",
        "random.seed(seed)\n",
        "np.random.seed(seed)\n",
        "torch.manual_seed(seed)\n",
        "torch.cuda.manual_seed_all(seed)\n",
        "device = \"cuda\" if torch.cuda.is_available() else \"cpu\"\n",
        "print(f\"Using device: {device}\")\n",
        "\n",
        "# Mount Google Drive (if using Colab)\n",
        "try:\n",
        "    from google.colab import drive\n",
        "    drive.mount(\"/content/drive\")\n",
        "    # \u26a1 IMPORTANT: Adjust this path if needed\n",
        "    data_root = \"/content/drive/MyDrive/FakeNewsNet/\"\n",
        "except ImportError:\n",
        "    data_root = \"./\" # Use current directory if not in Colab"
      ],
      "metadata": {
        "colab": {
          "base_uri": "https://localhost:8080/"
        },
        "id": "NK9HdePS1P3p",
        "outputId": "4cac400d-e7ac-4450-f4cc-26afb90032e7"
      },
      "execution_count": null,
      "outputs": [
        {
          "output_type": "stream",
          "name": "stdout",
          "text": [
            "Using device: cuda\n",
            "Mounted at /content/drive\n"
          ]
        }
      ]
    },
    {
      "cell_type": "code",
      "source": [
        "# ==============================\n",
        "# 3. Load Data & Define Transforms\n",
        "# ==============================\n",
        "# Load CSV files\n",
        "real = pd.read_csv(\"https://raw.githubusercontent.com/KaiDMML/FakeNewsNet/master/dataset/gossipcop_real.csv\")\n",
        "fake = pd.read_csv(\"https://raw.githubusercontent.com/KaiDMML/FakeNewsNet/master/dataset/gossipcop_fake.csv\")\n",
        "\n",
        "real[\"label\"] = 0  # REAL\n",
        "fake[\"label\"] = 1  # FAKE\n",
        "df = pd.concat([real, fake]).reset_index(drop=True)\n",
        "print(f\"Full dataset size: {df.shape}\")\n",
        "\n",
        "# Define tokenizer and image transforms\n",
        "tokenizer = BertTokenizer.from_pretrained(\"bert-base-uncased\")\n",
        "train_transform = transforms.Compose([\n",
        "    transforms.Resize((224, 224)),\n",
        "    transforms.RandomHorizontalFlip(),\n",
        "    transforms.RandomRotation(10),\n",
        "    transforms.ToTensor(),\n",
        "    transforms.Normalize([0.485, 0.456, 0.406], [0.229, 0.224, 0.225])\n",
        "])\n",
        "val_test_transform = transforms.Compose([\n",
        "    transforms.Resize((224, 224)),\n",
        "    transforms.ToTensor(),\n",
        "    transforms.Normalize([0.485, 0.456, 0.406], [0.229, 0.224, 0.225])\n",
        "])"
      ],
      "metadata": {
        "colab": {
          "base_uri": "https://localhost:8080/",
          "height": 287,
          "referenced_widgets": [
            "8a6199311cdd417abdab5518b1cda742",
            "c68646a389d8403a8bd12b1aabb207b7",
            "d5f9f00b167a46468c8d9d585a74915f",
            "cd092079054247a49e79a82bb7c5538e",
            "54f46eb59ae848599f19acd9ddae1962",
            "c9e9016aa32a4cf68f563138d21aee0e",
            "58160b2e2edf4e898cc7038b9e5e76cc",
            "55bb67f5cbc14483b99bf9c817a96fb1",
            "df4c8aaa463f47409cc3cb7fd861f459",
            "245f854736ba4115a21d84464b6f3ae1",
            "0fe1a09c2b6b4eb5a23cc30a43a1c669",
            "9bf790055b63400a94a69bced1c61a18",
            "607e3b4087894ffdaadc3456c2db7f1f",
            "a84228792f464346a90056a195a8e3c0",
            "e24395eee84f4e5d990e6a528f8c6975",
            "65c88ed372e0424ea3a64c8eb11d8094",
            "cef10108d1b64b06bf23b2bc989b9288",
            "730c95a7575a42f0838ce03cd55a12e4",
            "8df65bf8a0904ccdbb242e82551fa68b",
            "d26cd9bf1bc6402eabe8f45fb04caa88",
            "c380069034eb44a288a827ed686e1eeb",
            "fc454d4d488049d5beca09c549503811",
            "e6832ff3b1bd4c35b81ca2db5c178911",
            "9ac2ff3c0b84414a8017843fe34d74ab",
            "50237d8a38454286843c67872e392fa1",
            "40cafee848da49e19680f547f9103a42",
            "0e46122a29144212810a1c50b3332e4c",
            "3c01c0e229214069864d8665806070ae",
            "d0757d9032ab46b09c132c79d1f78013",
            "8b786982f01244918f8d92fa31b40ea1",
            "25f494ffeaaa4159a9087812764973cc",
            "868fbb3dc9274f51ab16df948050d70a",
            "a37e954e285c4a73871719b1938391c5",
            "12959f85d68a4ba3a5cf9273e0e24965",
            "856701cbd05343d698119d3ef143fd55",
            "d1aa9189fc80436eb63498b56119d2b5",
            "7f8e587c13004590b3728b4a7c739ede",
            "861698157ff24d6fb9f326d6054a9da8",
            "0ca91cc2f114457cbbfab564aa54e428",
            "8e46ab4e534740e08c62b67fefaf647c",
            "eb08f037312e4df58fdb8e1dcc494471",
            "082e0ae819b245039f316e9b0883f9d4",
            "6fa2794cbf0e404bab97c09cb670d94d",
            "1374759116a642229bd4b5dd1ee1f402"
          ]
        },
        "id": "Jx4nVJ052RTj",
        "outputId": "4fc1e0e3-b4b8-4e5e-a8ba-f861020c1289"
      },
      "execution_count": null,
      "outputs": [
        {
          "output_type": "stream",
          "name": "stdout",
          "text": [
            "Full dataset size: (22140, 5)\n"
          ]
        },
        {
          "output_type": "stream",
          "name": "stderr",
          "text": [
            "/usr/local/lib/python3.12/dist-packages/huggingface_hub/utils/_auth.py:94: UserWarning: \n",
            "The secret `HF_TOKEN` does not exist in your Colab secrets.\n",
            "To authenticate with the Hugging Face Hub, create a token in your settings tab (https://huggingface.co/settings/tokens), set it as secret in your Google Colab and restart your session.\n",
            "You will be able to reuse this secret in all of your notebooks.\n",
            "Please note that authentication is recommended but still optional to access public models or datasets.\n",
            "  warnings.warn(\n"
          ]
        },
        {
          "output_type": "display_data",
          "data": {
            "text/plain": [
              "tokenizer_config.json:   0%|          | 0.00/48.0 [00:00<?, ?B/s]"
            ],
            "application/vnd.jupyter.widget-view+json": {
              "version_major": 2,
              "version_minor": 0,
              "model_id": "8a6199311cdd417abdab5518b1cda742"
            }
          },
          "metadata": {}
        },
        {
          "output_type": "display_data",
          "data": {
            "text/plain": [
              "vocab.txt:   0%|          | 0.00/232k [00:00<?, ?B/s]"
            ],
            "application/vnd.jupyter.widget-view+json": {
              "version_major": 2,
              "version_minor": 0,
              "model_id": "9bf790055b63400a94a69bced1c61a18"
            }
          },
          "metadata": {}
        },
        {
          "output_type": "display_data",
          "data": {
            "text/plain": [
              "tokenizer.json:   0%|          | 0.00/466k [00:00<?, ?B/s]"
            ],
            "application/vnd.jupyter.widget-view+json": {
              "version_major": 2,
              "version_minor": 0,
              "model_id": "e6832ff3b1bd4c35b81ca2db5c178911"
            }
          },
          "metadata": {}
        },
        {
          "output_type": "display_data",
          "data": {
            "text/plain": [
              "config.json:   0%|          | 0.00/570 [00:00<?, ?B/s]"
            ],
            "application/vnd.jupyter.widget-view+json": {
              "version_major": 2,
              "version_minor": 0,
              "model_id": "12959f85d68a4ba3a5cf9273e0e24965"
            }
          },
          "metadata": {}
        }
      ]
    },
    {
      "cell_type": "code",
      "source": [
        "# ==============================\n",
        "# 4. Dataset and Model Class Definitions\n",
        "# ==============================\n",
        "class FakeNewsDataset(Dataset):\n",
        "    def __init__(self, df, transform, img_root_path):\n",
        "        self.df = df\n",
        "        self.transform = transform\n",
        "        self.img_root = img_root_path\n",
        "\n",
        "    def __len__(self):\n",
        "        return len(self.df)\n",
        "\n",
        "    def __getitem__(self, idx):\n",
        "        row = self.df.iloc[idx]\n",
        "        text = str(row[\"title\"])\n",
        "        enc = tokenizer(text, padding=\"max_length\", truncation=True, max_length=128, return_tensors=\"pt\")\n",
        "        img_folder = os.path.join(self.img_root, \"gossipcop\", str(row[\"id\"]))\n",
        "        img = Image.new('RGB', (224, 224), 'black')\n",
        "        if os.path.exists(img_folder):\n",
        "            files = [f for f in os.listdir(img_folder) if f.lower().endswith(('png', 'jpg', 'jpeg'))]\n",
        "            if files:\n",
        "                try:\n",
        "                    path = os.path.join(img_folder, files[0])\n",
        "                    img = Image.open(path).convert(\"RGB\")\n",
        "                except Exception: pass\n",
        "        return {\n",
        "            \"input_ids\": enc[\"input_ids\"].squeeze(),\n",
        "            \"attention_mask\": enc[\"attention_mask\"].squeeze(),\n",
        "            \"image\": self.transform(img),\n",
        "            \"label\": torch.tensor(row[\"label\"], dtype=torch.long)\n",
        "        }\n",
        "\n",
        "class FusionLayer(nn.Module):\n",
        "    def __init__(self, input_size=1024, output_size=512):\n",
        "        super().__init__()\n",
        "        self.fc = nn.Linear(input_size, output_size)\n",
        "    def forward(self, text_feat, img_feat):\n",
        "        x = torch.cat([text_feat, img_feat], dim=1)\n",
        "        return torch.relu(self.fc(x))\n",
        "\n",
        "class CCFM(nn.Module):\n",
        "    def __init__(self, dropout_rate=0.3):\n",
        "        super().__init__()\n",
        "        self.text_model = BertModel.from_pretrained(\"bert-base-uncased\")\n",
        "        for p in self.text_model.parameters(): p.requires_grad = False\n",
        "        for p in self.text_model.encoder.layer[-1].parameters(): p.requires_grad = True\n",
        "        self.text_fc = nn.Linear(768, 512)\n",
        "\n",
        "        resnet = resnet50(weights=\"IMAGENET1K_V1\")\n",
        "        for p in resnet.parameters(): p.requires_grad = False\n",
        "        for p in resnet.layer4.parameters(): p.requires_grad = True\n",
        "        self.img_model = nn.Sequential(*list(resnet.children())[:-1])\n",
        "        self.img_fc = nn.Linear(2048, 512)\n",
        "\n",
        "        self.fusion = FusionLayer(1024, 512)\n",
        "        self.dropout = nn.Dropout(dropout_rate)\n",
        "        self.fc1 = nn.Linear(512, 256)\n",
        "        self.fc2 = nn.Linear(256, 2)\n",
        "\n",
        "    def forward(self, input_ids, attention_mask, image):\n",
        "        text_out = self.text_model(input_ids=input_ids, attention_mask=attention_mask)\n",
        "        text_feat = torch.relu(self.text_fc(text_out.pooler_output))\n",
        "        img_feat = self.img_model(image).flatten(1)\n",
        "        img_feat = torch.relu(self.img_fc(img_feat))\n",
        "        fused = self.fusion(text_feat, img_feat)\n",
        "        x = self.dropout(torch.relu(self.fc1(fused)))\n",
        "        return self.fc2(x)"
      ],
      "metadata": {
        "id": "tVPGjAVJ2TwB"
      },
      "execution_count": null,
      "outputs": []
    },
    {
      "cell_type": "code",
      "source": [
        "# ==============================\n",
        "# 5. Evaluation Helper Function\n",
        "# ==============================\n",
        "def eval_model(model, loader):\n",
        "    model.eval()\n",
        "    all_preds, all_labels = [], []\n",
        "    with torch.no_grad():\n",
        "        for batch in loader:\n",
        "            ids, mask, imgs, labels = batch[\"input_ids\"].to(device), batch[\"attention_mask\"].to(device), batch[\"image\"].to(device), batch[\"label\"].to(device)\n",
        "            out = model(ids, mask, imgs)\n",
        "            preds = torch.argmax(out, dim=1)\n",
        "            all_preds.extend(preds.cpu().numpy())\n",
        "            all_labels.extend(labels.cpu().numpy())\n",
        "    acc = accuracy_score(all_labels, all_preds)\n",
        "    return acc, all_preds, all_labels"
      ],
      "metadata": {
        "id": "htrNMfEF2l8G"
      },
      "execution_count": null,
      "outputs": []
    },
    {
      "cell_type": "code",
      "source": [
        "# ==============================\n",
        "# 6. 5-Fold Cross-Validation\n",
        "# ==============================\n",
        "print(\"--- Starting 5-Fold Cross-Validation ---\")\n",
        "cv_df, _ = train_test_split(df, test_size=0.2, random_state=seed, stratify=df.label) # Use 80% for CV\n",
        "N_SPLITS = 5\n",
        "kfold = StratifiedKFold(n_splits=N_SPLITS, shuffle=True, random_state=seed)\n",
        "X, y = cv_df.index, cv_df.label\n",
        "fold_results = []\n",
        "\n",
        "for fold, (train_ids, val_ids) in enumerate(kfold.split(X, y)):\n",
        "    print(f\"\\n{'='*20} FOLD {fold + 1}/{N_SPLITS} {'='*20}\")\n",
        "    train_df_fold, val_df_fold = cv_df.iloc[train_ids], cv_df.iloc[val_ids]\n",
        "    train_ds_fold = FakeNewsDataset(train_df_fold, train_transform, data_root)\n",
        "    val_ds_fold = FakeNewsDataset(val_df_fold, val_test_transform, data_root)\n",
        "    train_loader_fold = DataLoader(train_ds_fold, batch_size=32, shuffle=True)\n",
        "    val_loader_fold = DataLoader(val_ds_fold, batch_size=32)\n",
        "\n",
        "    model = CCFM().to(device)\n",
        "    optimizer = torch.optim.AdamW(filter(lambda p: p.requires_grad, model.parameters()), lr=2e-5)\n",
        "    criterion = nn.CrossEntropyLoss()\n",
        "\n",
        "    for epoch in range(3):\n",
        "        model.train()\n",
        "        for batch in tqdm(train_loader_fold, desc=f\"Fold {fold+1}, Epoch {epoch+1}\", leave=False):\n",
        "            ids, mask, imgs, y_batch = batch[\"input_ids\"].to(device), batch[\"attention_mask\"].to(device), batch[\"image\"].to(device), batch[\"label\"].to(device)\n",
        "            optimizer.zero_grad()\n",
        "            out = model(ids, mask, imgs)\n",
        "            loss = criterion(out, y_batch)\n",
        "            loss.backward()\n",
        "            optimizer.step()\n",
        "\n",
        "    val_acc, _, _ = eval_model(model, val_loader_fold)\n",
        "    print(f\"\u2705 Fold {fold + 1} Validation Accuracy: {val_acc:.4f}\")\n",
        "    fold_results.append(val_acc)\n",
        "\n",
        "print(f\"\\n\\n{'='*50}\\nCross-Validation Results\\n{'='*50}\")\n",
        "print(f\"Mean Validation Accuracy: {np.mean(fold_results):.4f}\")\n",
        "print(f\"Standard Deviation: {np.std(fold_results):.4f}\")"
      ],
      "metadata": {
        "colab": {
          "base_uri": "https://localhost:8080/",
          "height": 483,
          "referenced_widgets": [
            "344b6c73912b4604bb64512827297895",
            "3d8fd45566134b7680163454b29ac134",
            "da637cdd920f4d0d9eb9fa30320ff8ef",
            "1ba17f6ca83444978f5b781d3428baee",
            "01e183ed0f8a411598a8b256e23fa01c",
            "3fabd73491224654a7877488861501c2",
            "f2a79e5d0a2c456a98dcc1b6828b37d1",
            "73d02670ac3d464cb201c7ddea12b7bf",
            "01b8df8bdf984fdf90e4c6d3539994b5",
            "de07d8e0de1b4b9dabc8c09d290edf8b",
            "26a7e49d679b4764a0342e3aeb14a72e",
            "3b3a2014a84240e6880fea5f773ddac5",
            "b7b7b52bd0874c37b585970d3816a55b",
            "adc401abb1de4ab8b9e0b611290d7a37",
            "e0b0926384c446a8be8e50fa49def538",
            "2a44fac89ac7466493e6009989bfe6f0",
            "34fbb13c638c4f3eb22e1c169ef24993",
            "55a1462c9cd8472aaaceba1953c49caa",
            "5a4207b2235a4f589ea9ac4f215b66cd",
            "78081f78845748f0899136c9e6dee7e4",
            "1334fb35dc2348f1880862b5621175d9",
            "a8d50a993a1942f08a3af3bb357e86b7",
            "8e703881a33243f7a4b3bc4d9375117d",
            "4379815e558e46358b541fa784d5574f",
            "f32e1ace36ab4ee9b56aac064bc6e0ce",
            "9ac6c4b689a2493e8fa23bb65405e022",
            "a8cf65b3a9d24c369299834d7867a196",
            "f91e9ee6006041e4a6f1968f6a68fb6a",
            "c3b30179da224019a44666c2810ae15f",
            "f8ada3f9c3354abda62adf4c76997075",
            "5db3ea88536240828d72e8138af6d514",
            "1ce3a3ded09a454cb73ce4d89ff34431",
            "0d5f6151d0bd40a5b14a94c59058c4c3",
            "bd13b0237bb94b328c9c310669b833fa",
            "f71f0f1d8b7c442b8c60e5f7323b0afc",
            "5e1272a8aba148eb8be9d993ce3a6304",
            "6216349b805d46ae915ef4b32d44dd46",
            "6df2f99cc3a04ac6b8c3c138e43c6a75",
            "a69e2b7d9378437588db740998859ca3",
            "4f90d68e1d224deb9c500aee08e8ccbb",
            "52acecb37ec84c979ad99cb8c9045c42",
            "6a524bf3c3c74f9da69ba90c93a7a490",
            "4987a4cd948a474b9c843ef6b23d475e",
            "3e72c871b7504bda8d8c7ed97638891f",
            "1a19d8b00e6a4d3e8cc396f029eb2dde",
            "59875a57cee948979e28e07e3f58a515",
            "a20f85560ad54c85b9879ab089371f3a",
            "aa6014d534bd447d830b0052b29215c4",
            "1033b634bdc342898ec162289d91a85a",
            "6df2f82d292140a6b7ab02dfd69ee751",
            "a64c94302b8d4107bd302cdb72103998",
            "fcc4c9f8cc454fd88e32ab7ee15c4c48",
            "0513a7c76a224584b01c7cef3862dcf3",
            "828cbe623e3247438b0c7d32f9de1d1d",
            "0e0c2067cee84fbaa3c894d2121902a1",
            "40107aa28e6f44aaaf0b4b533068ee7e",
            "265b8f47430f42afa0ec8edc2860c487",
            "02e3ca7792484e7d9cdc775b4c9fd7ed",
            "da8d2bf61cdf4d3e80e9966eb0fcbca6",
            "9f649077f4c54025ab95624d7afe5a51",
            "89abe6d1b7e34082a81d361fb2e61c48",
            "b202db870ac34936b52a77fce6f45050",
            "417c79e86e2546ad88e64ad9cb25bcd7",
            "35d1aa778ca945c6a707f328018a7e8e",
            "bea9b9ebdf574218b5eb268239974481",
            "40dabfd075c34d8bb67e1ed59dc302ee",
            "16f00bc5565f4148a930bcb11a10da64",
            "a6500f645cd6492686c1da61ad1e61bb",
            "7aa5da5ed47d41a4917cd68b31933ece",
            "d3b270b011324bfd8a134e9294293a49",
            "34d36889350d46ba907b6b392e004fcf",
            "4d2069ced90c468ebec57d88e9055b58",
            "7e1f6aa8b3b44ee5a564397b673e3b43",
            "146d2a1d169c4e519ccdecf206d8e983",
            "7b1e4a080acb4ffebb655349a499258d",
            "b07e7e5dc3a54115a97781b42991e77c",
            "84bcd8417fdb4fbcadc59e53c3829a05",
            "b14d7dc989bf49f1a874bc513d83f36a",
            "535badd7756d4993b6f138b8622cd49f",
            "62a92e0e3b544c3bb9e600cb275858c1",
            "3fc1b74f927d45e9a7c18508c8526f7b",
            "b00d902fd7094ab5a791a30e01671fde",
            "e6b8cde2e35a49b3bb3488fbf0b76fc9",
            "4a5127a7ff2a4df3ab660f526a6e5217",
            "2724c913230446459d927c356ddd3b1e",
            "825c7337e7604da49c43389be580b3a8",
            "c3ad4dcbbb854b2f9a60e0133d826018",
            "82f4d4dd3cfc4efdbef6afd7a9e6dac4",
            "3a7746396f1b4163be67b5355519e383",
            "b00ca39e284741ccaae4fe4dadc26d87",
            "67a16a10c179490fb55da82b6f4bcfaf",
            "afd386de7e3f409fbac4f39c712f6a60",
            "9823e4b5f5104e48b19b023145939693",
            "5758d0ec566347a59dc5b8edb7790755",
            "887cf9ac25884664b93df9b5abd1a6c7",
            "11a619d225de4bbda859e487050f2656",
            "f47ab0eff1174b59a9e7eb1bb8234e47",
            "0174528ae314489d9c7021ec7495fec8",
            "1d372821a347492f9b531811ae09cfd7",
            "0999067b82204fa5904b72fb886383fa",
            "ca4114fa5af14913a195e88269dfd33a",
            "8b3ae45122ec4c548814c97ab1e3af17",
            "c59bf5d45a1d415d82ef04481809ba24",
            "c807bf94f0a14c2792a17eae600df139",
            "511011b6e9174cd98102708351a8ed9d",
            "ab414822d1244df59e157b7bdaf41f4d",
            "a470910a34b24777be91b675b58627b3",
            "523aa9e77c094f188d41f53f863bb4fa",
            "6a4f33bfefc44cb3847992023cee04f4",
            "785d6e7ff7a74abd89d62434b6d5f2fa",
            "ffb472e948df4f57a278315155c9a119",
            "a44dcfbc3dc94dfeac52bd27063fb8ac",
            "f286ecb0fb6444d98825b6837e5eb7df",
            "83c66acc876043d68008e001d5bbcd77",
            "b43a57471e6f49d694f8fe9ce7704cda",
            "5a02880851444aa8b299a50d787ec3c3",
            "97cdce05960b4948a98399fc87374108",
            "fe652fef917a42ed9ae89e1be9dfeca1",
            "9c8803be5e1643d084e710eb0cf1a3c6",
            "a3c192c309dc4f9b845c3ae6b597cc1a",
            "c89d8e3c62a242f698020f45464916f4",
            "2a690f4123cc42ea88e7e4896a14bb85",
            "48f36b56c2624a69bb18f040ea9f3a57",
            "ecd70bc5c9ec46bcb42e0e8ebd94b0c0",
            "8503b0bd470941c98fa2bfd38593f6e8",
            "7f236ad897974468a1713d9aa309cb28",
            "544f53ab875142409ee0d78704108912",
            "4219621bc96b47b1a3422a0a3e0962d4",
            "aa0ce1711c944c738a1f58b798f1201b",
            "679e9db1f02042319d14bebe686709ad",
            "dc3dde3affb34268b2c583ca722b755b",
            "8a1f46b64840470c9df2791e55b0ced0",
            "1754ff95e506488682fcb0bff3c4fdde",
            "b6a2b6ba3c9f4afc9d430291de04abd4",
            "249e77e53fa34b95910710062745a623",
            "a1f2d9f10ee141e396fc1b748c0c2c7a",
            "9397f9aadea84f2cbe4ad19d5c3fc706",
            "9ca55c43ac34464a81e93e3fb813fd94",
            "0329572a91be4326802d21371be64ea4",
            "a63e2dbdc992433a986c1f5f2beb0a3c",
            "c7c34c1bdf1e416b97f9dabca0f5f17d",
            "422f653cca2b47529591669fa3c19cc2",
            "64c6cda0c4c44ebbabd67b15a5662554",
            "2372ae2d5630465ab121929c39a09259",
            "1c2aa87a0b4b4b208ce84236a1fe6380",
            "5f3d8daf52e3424ab1e2ae5031d8f49f",
            "fecb27102fc54310bf4408ef35c5e0ef",
            "aa82982c5296442d92152816e2651519",
            "144428d0d8474dd78bd7ba63b88e2820",
            "4c18c56454544c0a94fd6c5262f7b547",
            "15c46883969647c9ae897f2a8f494cde",
            "063ad4263f024b21ac8fee750d9ba2cf",
            "0f96d5ce81d041abbbf8d77b5153a997",
            "a8e16ff670164b31ace28660b04fb6e2",
            "ee0f10fb3e714998938b961369493be6",
            "c721d502a1174128ab18f847008db973",
            "1161371572dc43389a4458280757ea09",
            "bb8db90314fe40c7818ea1ef56739449",
            "b856845704924905a4c0df0734f259da",
            "258a4417ee17422c9bd7f8e0c798c013",
            "b7a56f6b510d48fb9e1f94a71d8468e9",
            "9edeb01936cf4dfbb6490eb6bdc33860",
            "29262c6ade284f2bb8acbb8042eb32dc",
            "d0464743f8bd4af98be9b73ad962aa6e",
            "190b965bb30d4aabb64723f306ccd5ee",
            "19b5a69d6fa444c59ab52e6f3e753fc2",
            "76c307d6870949ec8cf2ffa855f68d48",
            "ef8e27a17b9e4948b71ae93aad662a3f",
            "c2338710d81040b3b0b298b33e1e9262",
            "6287bb3647394cabb07d83b272295b38",
            "b9dcb9dc906245f4bd9d326b272b8eda",
            "ec7f85a3f8d84c2193e7958d7876f889",
            "0fcb895901134137ae374a3bccfa675b",
            "c1af85776a7c48d38d8d0efa2c42cbf7",
            "1cfa399b5fed4168a94781b4cb6b515c",
            "9bce2245af8042028001f3d71b9ae762"
          ]
        },
        "id": "nvLWrhvO2obf",
        "outputId": "fc5d1e15-f3bf-41e7-b39e-b9e1493f8452"
      },
      "execution_count": null,
      "outputs": [
        {
          "output_type": "stream",
          "name": "stdout",
          "text": [
            "--- Starting 5-Fold Cross-Validation ---\n",
            "\n",
            "==================== FOLD 1/5 ====================\n"
          ]
        },
        {
          "output_type": "display_data",
          "data": {
            "text/plain": [
              "model.safetensors:   0%|          | 0.00/440M [00:00<?, ?B/s]"
            ],
            "application/vnd.jupyter.widget-view+json": {
              "version_major": 2,
              "version_minor": 0,
              "model_id": "344b6c73912b4604bb64512827297895"
            }
          },
          "metadata": {}
        },
        {
          "output_type": "stream",
          "name": "stdout",
          "text": [
            "Downloading: \"https://download.pytorch.org/models/resnet50-0676ba61.pth\" to /root/.cache/torch/hub/checkpoints/resnet50-0676ba61.pth\n"
          ]
        },
        {
          "output_type": "stream",
          "name": "stderr",
          "text": [
            "100%|\u2588\u2588\u2588\u2588\u2588\u2588\u2588\u2588\u2588\u2588| 97.8M/97.8M [00:02<00:00, 35.2MB/s]\n"
          ]
        },
        {
          "output_type": "display_data",
          "data": {
            "text/plain": [
              "Fold 1, Epoch 1:   0%|          | 0/443 [00:00<?, ?it/s]"
            ],
            "application/vnd.jupyter.widget-view+json": {
              "version_major": 2,
              "version_minor": 0,
              "model_id": "3b3a2014a84240e6880fea5f773ddac5"
            }
          },
          "metadata": {}
        },
        {
          "output_type": "display_data",
          "data": {
            "text/plain": [
              "Fold 1, Epoch 2:   0%|          | 0/443 [00:00<?, ?it/s]"
            ],
            "application/vnd.jupyter.widget-view+json": {
              "version_major": 2,
              "version_minor": 0,
              "model_id": "8e703881a33243f7a4b3bc4d9375117d"
            }
          },
          "metadata": {}
        },
        {
          "output_type": "display_data",
          "data": {
            "text/plain": [
              "Fold 1, Epoch 3:   0%|          | 0/443 [00:00<?, ?it/s]"
            ],
            "application/vnd.jupyter.widget-view+json": {
              "version_major": 2,
              "version_minor": 0,
              "model_id": "bd13b0237bb94b328c9c310669b833fa"
            }
          },
          "metadata": {}
        },
        {
          "output_type": "stream",
          "name": "stdout",
          "text": [
            "\u2705 Fold 1 Validation Accuracy: 0.8400\n",
            "\n",
            "==================== FOLD 2/5 ====================\n"
          ]
        },
        {
          "output_type": "display_data",
          "data": {
            "text/plain": [
              "Fold 2, Epoch 1:   0%|          | 0/443 [00:00<?, ?it/s]"
            ],
            "application/vnd.jupyter.widget-view+json": {
              "version_major": 2,
              "version_minor": 0,
              "model_id": "1a19d8b00e6a4d3e8cc396f029eb2dde"
            }
          },
          "metadata": {}
        },
        {
          "output_type": "display_data",
          "data": {
            "text/plain": [
              "Fold 2, Epoch 2:   0%|          | 0/443 [00:00<?, ?it/s]"
            ],
            "application/vnd.jupyter.widget-view+json": {
              "version_major": 2,
              "version_minor": 0,
              "model_id": "40107aa28e6f44aaaf0b4b533068ee7e"
            }
          },
          "metadata": {}
        },
        {
          "output_type": "display_data",
          "data": {
            "text/plain": [
              "Fold 2, Epoch 3:   0%|          | 0/443 [00:00<?, ?it/s]"
            ],
            "application/vnd.jupyter.widget-view+json": {
              "version_major": 2,
              "version_minor": 0,
              "model_id": "16f00bc5565f4148a930bcb11a10da64"
            }
          },
          "metadata": {}
        },
        {
          "output_type": "stream",
          "name": "stdout",
          "text": [
            "\u2705 Fold 2 Validation Accuracy: 0.8419\n",
            "\n",
            "==================== FOLD 3/5 ====================\n"
          ]
        },
        {
          "output_type": "display_data",
          "data": {
            "text/plain": [
              "Fold 3, Epoch 1:   0%|          | 0/443 [00:00<?, ?it/s]"
            ],
            "application/vnd.jupyter.widget-view+json": {
              "version_major": 2,
              "version_minor": 0,
              "model_id": "b14d7dc989bf49f1a874bc513d83f36a"
            }
          },
          "metadata": {}
        },
        {
          "output_type": "display_data",
          "data": {
            "text/plain": [
              "Fold 3, Epoch 2:   0%|          | 0/443 [00:00<?, ?it/s]"
            ],
            "application/vnd.jupyter.widget-view+json": {
              "version_major": 2,
              "version_minor": 0,
              "model_id": "3a7746396f1b4163be67b5355519e383"
            }
          },
          "metadata": {}
        },
        {
          "output_type": "display_data",
          "data": {
            "text/plain": [
              "Fold 3, Epoch 3:   0%|          | 0/443 [00:00<?, ?it/s]"
            ],
            "application/vnd.jupyter.widget-view+json": {
              "version_major": 2,
              "version_minor": 0,
              "model_id": "0999067b82204fa5904b72fb886383fa"
            }
          },
          "metadata": {}
        },
        {
          "output_type": "stream",
          "name": "stdout",
          "text": [
            "\u2705 Fold 3 Validation Accuracy: 0.8377\n",
            "\n",
            "==================== FOLD 4/5 ====================\n"
          ]
        },
        {
          "output_type": "display_data",
          "data": {
            "text/plain": [
              "Fold 4, Epoch 1:   0%|          | 0/443 [00:00<?, ?it/s]"
            ],
            "application/vnd.jupyter.widget-view+json": {
              "version_major": 2,
              "version_minor": 0,
              "model_id": "ffb472e948df4f57a278315155c9a119"
            }
          },
          "metadata": {}
        },
        {
          "output_type": "display_data",
          "data": {
            "text/plain": [
              "Fold 4, Epoch 2:   0%|          | 0/443 [00:00<?, ?it/s]"
            ],
            "application/vnd.jupyter.widget-view+json": {
              "version_major": 2,
              "version_minor": 0,
              "model_id": "2a690f4123cc42ea88e7e4896a14bb85"
            }
          },
          "metadata": {}
        },
        {
          "output_type": "display_data",
          "data": {
            "text/plain": [
              "Fold 4, Epoch 3:   0%|          | 0/443 [00:00<?, ?it/s]"
            ],
            "application/vnd.jupyter.widget-view+json": {
              "version_major": 2,
              "version_minor": 0,
              "model_id": "1754ff95e506488682fcb0bff3c4fdde"
            }
          },
          "metadata": {}
        },
        {
          "output_type": "stream",
          "name": "stdout",
          "text": [
            "\u2705 Fold 4 Validation Accuracy: 0.8363\n",
            "\n",
            "==================== FOLD 5/5 ====================\n"
          ]
        },
        {
          "output_type": "display_data",
          "data": {
            "text/plain": [
              "Fold 5, Epoch 1:   0%|          | 0/443 [00:00<?, ?it/s]"
            ],
            "application/vnd.jupyter.widget-view+json": {
              "version_major": 2,
              "version_minor": 0,
              "model_id": "2372ae2d5630465ab121929c39a09259"
            }
          },
          "metadata": {}
        },
        {
          "output_type": "display_data",
          "data": {
            "text/plain": [
              "Fold 5, Epoch 2:   0%|          | 0/443 [00:00<?, ?it/s]"
            ],
            "application/vnd.jupyter.widget-view+json": {
              "version_major": 2,
              "version_minor": 0,
              "model_id": "ee0f10fb3e714998938b961369493be6"
            }
          },
          "metadata": {}
        },
        {
          "output_type": "display_data",
          "data": {
            "text/plain": [
              "Fold 5, Epoch 3:   0%|          | 0/443 [00:00<?, ?it/s]"
            ],
            "application/vnd.jupyter.widget-view+json": {
              "version_major": 2,
              "version_minor": 0,
              "model_id": "19b5a69d6fa444c59ab52e6f3e753fc2"
            }
          },
          "metadata": {}
        },
        {
          "output_type": "stream",
          "name": "stdout",
          "text": [
            "\u2705 Fold 5 Validation Accuracy: 0.8413\n",
            "\n",
            "\n",
            "==================================================\n",
            "Cross-Validation Results\n",
            "==================================================\n",
            "Mean Validation Accuracy: 0.8394\n",
            "Standard Deviation: 0.0022\n"
          ]
        }
      ]
    },
    {
      "cell_type": "code",
      "source": [
        "from sklearn.model_selection import StratifiedKFold\n",
        "import numpy as np\n",
        "\n",
        "# This code assumes df, data_root, transforms, and the model classes are in memory.\n",
        "\n",
        "# --- 1. Hold out a final test set (20% of data) ---\n",
        "cv_df, final_test_df = train_test_split(df, test_size=0.2, random_state=seed, stratify=df.label)\n",
        "print(f\"Data for Cross-Validation: {len(cv_df)} samples\")\n",
        "print(f\"Held-out Final Test Set: {len(final_test_df)} samples\")\n",
        "\n",
        "# --- 2. Set up 5-Fold Cross-Validation ---\n",
        "N_SPLITS = 5\n",
        "kfold = StratifiedKFold(n_splits=N_SPLITS, shuffle=True, random_state=seed)\n",
        "X, y = cv_df.index, cv_df.label\n",
        "fold_best_accuracies = [] # Store the BEST validation accuracy of each fold\n",
        "\n",
        "# --- 3. The Cross-Validation Loop ---\n",
        "for fold, (train_ids, val_ids) in enumerate(kfold.split(X, y)):\n",
        "    print(f\"\\n{'='*20} FOLD {fold + 1}/{N_SPLITS} {'='*20}\")\n",
        "\n",
        "    train_df_fold = cv_df.iloc[train_ids]\n",
        "    val_df_fold = cv_df.iloc[val_ids]\n",
        "    train_ds_fold = FakeNewsDataset(train_df_fold, train_transform, data_root)\n",
        "    val_ds_fold = FakeNewsDataset(val_df_fold, val_test_transform, data_root)\n",
        "    train_loader_fold = DataLoader(train_ds_fold, batch_size=32, shuffle=True)\n",
        "    val_loader_fold = DataLoader(val_ds_fold, batch_size=32)\n",
        "\n",
        "    # Re-initialize the model for each fold\n",
        "    model = CCFM().to(device)\n",
        "    optimizer = torch.optim.AdamW(filter(lambda p: p.requires_grad, model.parameters()), lr=2e-5)\n",
        "    criterion = nn.CrossEntropyLoss()\n",
        "\n",
        "    # --- Training Loop FOR THIS FOLD ---\n",
        "    best_accuracy_in_fold = 0\n",
        "    # Let's train for a few epochs and find the best one\n",
        "    for epoch in range(5):\n",
        "        model.train()\n",
        "        progress_bar = tqdm(train_loader_fold, desc=f\"Fold {fold+1}, Epoch {epoch+1}\", leave=False)\n",
        "        for batch in progress_bar:\n",
        "            ids, mask, imgs, y_batch = batch[\"input_ids\"].to(device), batch[\"attention_mask\"].to(device), batch[\"image\"].to(device), batch[\"label\"].to(device)\n",
        "            optimizer.zero_grad()\n",
        "            out = model(ids, mask, imgs)\n",
        "            loss = criterion(out, y_batch)\n",
        "            loss.backward()\n",
        "            optimizer.step()\n",
        "\n",
        "        # --- Evaluate on this fold's validation set AFTER EACH EPOCH ---\n",
        "        current_val_acc, _, _ = eval_model(model, val_loader_fold)\n",
        "        print(f\"Fold {fold+1}, Epoch {epoch+1} | Current Val Acc: {current_val_acc:.4f}\")\n",
        "\n",
        "        # If this epoch is the best so far for this fold, update the score\n",
        "        if current_val_acc > best_accuracy_in_fold:\n",
        "            best_accuracy_in_fold = current_val_acc\n",
        "\n",
        "    # After training for all epochs in this fold, save the BEST accuracy found\n",
        "    print(f\"\u2705 Fold {fold + 1} Best Validation Accuracy: {best_accuracy_in_fold:.4f}\")\n",
        "    fold_best_accuracies.append(best_accuracy_in_fold)\n",
        "\n",
        "\n",
        "# --- 4. Final Results ---\n",
        "mean_accuracy = np.mean(fold_best_accuracies)\n",
        "std_deviation = np.std(fold_best_accuracies)\n",
        "\n",
        "print(f\"\\n\\n{'='*50}\\nCross-Validation Results\\n{'='*50}\")\n",
        "print(f\"Best Validation Accuracies for each fold: {[f'{acc:.4f}' for acc in fold_best_accuracies]}\")\n",
        "print(f\"\ud83c\udfaf Mean Validation Accuracy: {mean_accuracy:.4f}\")\n",
        "print(f\"\ud83d\udcca Standard Deviation: {std_deviation:.4f}\")"
      ],
      "metadata": {
        "id": "SqQ6FXYC3QYp",
        "colab": {
          "base_uri": "https://localhost:8080/",
          "height": 885,
          "referenced_widgets": [
            "50dbc44c384045ddbd77b3d19d0182e1",
            "6a3f38dfc5b24b8a94bdaf2b7e7520af",
            "ff8683303b5c4ec295ce6862b6411170",
            "a9b849438329459697ad94e4f2c9a4f7",
            "db95adfd6ef24ce2909e59ec7f77bdfd",
            "85e18fcade5d47b9854356cc67089f86",
            "5ad65ff6374a452cb4ef6a55856a7c6a",
            "8ba6932c65ad4c2789c8397bf136a853",
            "39b15d7cb711422ea43f5db941fa8f48",
            "2633ed232b4f4a75999e1456787f9eab",
            "6e50fb6a901e4638b26776657fbcdc4f",
            "d02efdf1ea7b4b08903a4f4705bc5461",
            "4bc4f2f2bf8148efb0b7db866cfc8dfc",
            "64fba48f2a8542f5bce8c0f68e61f887",
            "e25cd856942849cc9e85a7aec4119110",
            "753caf6f550541e09306c7ffbf262281",
            "10eb052ccf95499684197a0e6cba93ef",
            "b8adbade37ed409c947ee098d507f942",
            "8cea26480ec64f54839edbabb65bd383",
            "f77b4899a9b348368fff9ba24f268f22",
            "2225c640ebb14a55b3cb696f1763b8f1",
            "e30c36d5f6c64a49b3a31389d9dbdfae",
            "5c8f2abc3af742d7b865789c91d48d61",
            "fc4d835612034a6583a52fcbcea1cab0",
            "3db7a8abf7fb4bab8a199a4e0bb22eaa",
            "d3b0822ca3c14282bd2b70cff476d9d3",
            "c655f427afd744fa8bc8c542794bd290",
            "1fa6e1e7841644a6ba139f856a95f6d2",
            "f1de0d48a3f44c46bb8489bc3d11f834",
            "37e3799b59194b56a0da4704252a0147",
            "2649be387aef4c5da9e80e4ee93a029a",
            "6fb43cc7bb5548f78d0e28db0c815975",
            "f616f627f9df49afa9b8e805f7351584",
            "50461039854949d092db7d8aa7a0078e",
            "33709d0a412b443489d5432e87f239c7",
            "cb36a0c90cc94c6c8aa9d4fb02e6f029",
            "fde8d19ba7114bd58bc488c0dd2bec30",
            "779c028d9aae4d30b0fd76adbd36c048",
            "0690a94f4a604aa788ea34c18674e385",
            "8d478863c3f04eb398a901c43465bbdc",
            "c8a6be8b8c2c4c698ffda7742f269fd4",
            "3afa14ba9e224fb7a85044c38917ed4d",
            "0c106f14eb824ef19b85be60c77ccbf1",
            "7f2f2978160c4e6e8abe3ac37dd2a791",
            "040c3f6179714b89b2c50bee6e5d1a64",
            "43d5f24e5762420bafd18881b9bab5ec",
            "a8f007b454be4000a64ac199687a2cf1",
            "f41eee6dccc148f58f17abd9eb658a77",
            "e493180c5fdf4cf896709b01bf6020fe",
            "302a4f22f608452fbdf2a8e01c3edee8",
            "12889ee9e8e04a31adea76adce1feda9",
            "ddbf243c50de4c2ab9fa8c4dd17ec11d",
            "3c4fef5424104150b6fcb791ca9e86d6",
            "fef7304dc0b84c42800db1a0e9c7b7b8",
            "c487186d7c7b43fdb6f8d0c0babb03df",
            "97d4f88ee4af4eb08e40bc17e96a9ed6",
            "9975a2730b504c22936d9a152588594c",
            "0923446532544361976fd2ebafb2a7db",
            "ee3190b5282247698eaa8935b9b04dfd",
            "71ad337630fa4eefb700e12edce01421",
            "1cde1a3f36dc483582a9afa295b3364f",
            "b29b85fca237418399aa80c3a4ae7c46",
            "137f67bcac8841d0bb2ff80ad6a6e860",
            "0e2e8b42206047f8b9b328604ceac62d",
            "12520455fb8048d48f8c52a1c037feb0",
            "e345ce98700b4a3792282d55bbd6ccbc",
            "1d23b1f675454d11972edd7fb24573f7",
            "4692acd8d7f941a28a31fc586e811a50",
            "093523ff06f946ad8a8e6c6ab9fcacf9",
            "fe964c7fc6274f3e8e784102d8bb3e22",
            "1b99e06de6a74119b788ae0aedf4ea98",
            "34b376b8a38b4c77b84a6074f6afa633",
            "b7d73e972a9a46edaab253341c4e560e",
            "0b02b30482b44692a6a82c36277610d4",
            "b249d98534c7424b8385620b96704521",
            "5d204d55daf243198b4b854484773fe6",
            "21c51d6bfbbc46dc989fa8ffad6b79f9",
            "ed0110c069254aaabe21df09b4254e7c",
            "b1b9f38337454ff6892cc67a091860f4",
            "981164f4feb84491a7a0b278f6bf5268",
            "b6b55a591f314646a0affa4cb6a1e157",
            "4172bc58b359415e8dbf848aa98688bc",
            "d09d6263efc243cf8beb5419a737a336",
            "a6122377ea8d460399a34babb54e8781",
            "f8904e840ede42f8956a7b332af3cb1f",
            "96f405ed565249e4b957e1efa8d88de2",
            "a2ff91e663be48e7854895ce00c0e453",
            "539a0347f95b4bb09313686cebb741de",
            "4818c991395448768b1c8ce5fa94b528",
            "450ad8638f854064885c1226791b68f7",
            "592d6eedc6274d739e61aa5b259aa316",
            "361d6fa8628f4ae38b547fc9d315b209",
            "554c0e5d82384a968d15e234e428cd5f",
            "515f9b77927745fe95f465b1f0c18867",
            "a1f1ebb4092746a5bfaa1ca9e9d9c11c",
            "15a752a0109a44478ff09e0d5f65651e",
            "087ac25d1cbf49f7888623c58e1db7e2",
            "e9690bd712bb4f8e9e2215cc34aa87e7",
            "9249a6e61b8647a0b7e90da23e485200",
            "7fc45f186dfe489c8d9a06bf7a45dd49",
            "21380578eef847d2a3bf8c94b8f9a64e",
            "7138221c65ef48319ed05c5da7244672",
            "8b866c22e94e4209b8a0ca4e15f78bb2",
            "605104bd9f6f4200a67d7152bf66a844",
            "879eb808a33e4b6899a6708c6a958420",
            "fd2fef5dea094f3f845b621f710d76c3",
            "83fc2cc94af5484ba895b85567bf3d8f",
            "eba5041d616142d18ef31412aa97530a",
            "460b59b3a4ce472787395333a5b770b9",
            "8c6b3441c4ae4135ae336c9ef1fbe47a",
            "8fd36e52017a44e39e73f12860ff7061",
            "5cbab2889ce34d8c83818e6cd4662f7e",
            "993e68e9d60a4a09b625ae1783915526",
            "0346facf4e6c486bb6a4646cc294486b",
            "75a64832fa19453ebaccac4432f30cb5",
            "f7f14564a1a449f993f047fa395a9449",
            "44f33a672f554c198a99c5bd57c6b1c6",
            "7d44201e903349ca92fa8879016f2627",
            "94403e6dbc62476e8bdf27e996338d3a",
            "8287b884e0254153b55078f67db3e92a",
            "1aa111b8f0ed4b558b1aa4879c3370d5",
            "238c59217ec94898be6881997a07858d",
            "aed8a98012ce4e088fdf8054763327e3",
            "09af2a9eb1ad4a51be35487ba4866f5c",
            "3d2f9e8d38434c56a93741688109747d",
            "183be98c283a428b81cc1495da0833b7",
            "ea66d77653ad434db83c89c7ff181ead",
            "164ae8caa73949cb88d121832f3892d6",
            "cb13a47ea9b04fad84d9af3da2a19455",
            "a3ad4cd26f4d44f792e3d4e7fa878d2a",
            "d8159fe4d8164a4985966bbd3dc14b39",
            "38f0a0cb41e7464783de08e50c8c672f",
            "69a8b6625d5e432ea7d5563d1f5d8212",
            "7ff8b15ecc754b0db2004abbc8867cdc",
            "c49c86109d7d4ce9b2b06aad2d056a27",
            "626734c10ea04fcba91317c1f129237d",
            "90bfe5f1c2d9435e84f3d4ac2a082e00",
            "629a9d4e7c6d40f0a5c3260b78c37613",
            "5b10867e898145509de3fa30fb611404",
            "f4c75ccd07bc4f5b88b2abd885b9d2f3",
            "ea184b262873417d977e3ce391242c91",
            "5962f359fee94a7287a2b988f6003b62",
            "f99059b366c44b2faa750a4b3456ae8a",
            "389a65abf237451dab3e51a29f2580ed",
            "37c9339011e44820bca48a4cc76667ab",
            "a641e71a4ebd494db0cc7a750c362e15",
            "0c55b0817907407d9e1408c1e3643993",
            "dedf35599fcf4e28aefd01f4086bc6bb",
            "ef7abdd281644007b25e6fc11e3abf38",
            "b5f74619cce74e1b980f1f6d34a77e72",
            "871d683113de43368e185a46b6c59390",
            "25e4020b1aee45ecae0d8a165affe1f7",
            "ed1fa47806f740e88dbfb2bf3ecbcc0e",
            "a1036d0e572e4733aaf447f9f0f38733",
            "378efee9959141fe9e0bcfce932d60cc",
            "7355b27bd99c46cc877e10d170c5036e",
            "f76b65f6b3f04305a2a735748e6c9630",
            "41137218ccd642dbbdd714649581097c",
            "ffec5ebdfab347fca240328e1c20db4b",
            "71a482f5cc964bb78270530ccc9eaf4d",
            "a6cfda8a4bfa413db3c466431d914011",
            "a65823eebbc64bb6ab58896f0f369167",
            "eb2326ce3d7d49128aecede6cf354434",
            "fdbe7017733b4514906abc64d83393c8",
            "9cf45c93b9494316b81560dedfdbb717",
            "6f69064671f148169d5c86b33d5d692e",
            "4bcf66147afe4e19bed0f9f748570b20",
            "a2dc455d51284766b83af71607be6f8b",
            "2f027fae331b4a90a9f3870d739c00ff",
            "680b9a57a30648b699f7288872764ce9",
            "776a2728eb8a48eebc49b9a4764995f3",
            "297b62faf74c42d6aaeecce06bd25b1b",
            "fa96ca3e403e4abdab58c40cbd1bedad",
            "16a56317569b4a4c83426a5902541b22",
            "376db331d5bb4158809e9d945cebdf47",
            "9798b385db394a62b9b97b607c53fb1c",
            "7fe386405ab646979f72618518a36ed1",
            "a20b36bb539a4c918ec18f1a6dc02d60",
            "f7f01b957d4f4ad2817300630090b706",
            "c220699448cc462089d347304998df03",
            "a11d00b61fc043778c47fe3532c1d10e",
            "42bc3a56e1e0469fbad4b48dd612bb8a",
            "6d4cdac4672441ac9773e900b349aaa8",
            "50c6a77227654a1db01272a108c37d52",
            "77811e5d1b4040b798e356ccb293472f",
            "d378929d946744a7800afe4e7e2321d7",
            "c22bd64530ec4028bab004f5e1fd83f2",
            "4ee0d290a066403b9fbd1bfaeb8d9d3b",
            "2ef7b2e7e66c4574a52552436717b206",
            "541e08e8f9104e3e9b8cb3ee9ce276e5",
            "a662c80b500546678ecd05972f420560",
            "04ce1b44f8004a5d8bf8230f3d12e2e4",
            "db7739fd788a4f789ae55faa1c1b173a",
            "56f44b5d34f947aa9e8cacb90bb56096",
            "ba701316732e4e47a7b5c17c1c2e1e94",
            "ba25b122f0154cb49296b12a55a9dd52",
            "19fb9e31afdb45ccac13106de96b0dd3",
            "2340d7a93a0e414e982ac603cbe51178",
            "29bb4c3bde674434a6b827453f94f63f",
            "b369d9d0860443d8afcb11f16c1bb20f",
            "a934831479b14d12aae29df397107e97",
            "863a831528074dd8a9a3198497e561f5",
            "d96410f6f88d4c36a54a9b062c135222",
            "8f4dbba45a80468a9dfcccaa0c6c6502",
            "cfb40ac078c8467589fc10e9a2ebb2c7",
            "b5ed3a4c1a944e818ce863f864f98cee",
            "4030bef6259c4393b64469510695d420",
            "b82bda5e3d74469d83df4512adb7437e",
            "2d1c6e76276a42319a57853ee14a41cd",
            "ebfb9b13d3294b0dbd276c8061d83464",
            "97aa3f153e854ed1b340b033a28ac768",
            "3670ef8de2c142bfbfdd5001409a4c08",
            "b87a8ed0d0b74bbabf7c87028fe347e9",
            "c0e8b62ed24448dba360288f2860d486",
            "3209c6be28c84e7d963acb614816ce4a",
            "252552482a48411c921d303089fbb035",
            "447fc8e5785f41e099440bcc3ff8cd9d",
            "a741687f4f474e99b0c1afc9528457ad",
            "da91616ebc1d474d8eb7f9a1966800df",
            "259e2fccbde4491199cb210af9fe7847",
            "7d00f64fc083418688551e1dac339b53",
            "8397d7b944ae468e939fd6ce69cd969d",
            "0be5244c2e4d4b9bac2c1ec6786591fb",
            "58458e35cf7e4fcf96f64ceda97edeaf",
            "a243062bdb8c4d3e99518a6d1b5001cb",
            "39bc0ba2419346b7b52862d4347aa95e",
            "c3e614ac05ea42dda99e8f9bc0cbfab1",
            "2763b87a67ff4ab699b0c9e6c0837049",
            "7faa2e007e694414aaf80dda0f6b940f",
            "0eed8bdb5a20405b93dd2d71184818a7",
            "e3ff5f52ba8048aab60dbbe27b56739e",
            "aec1ba21fcb44975a926a6577143392e",
            "a58b859dfc7b4d71ac65d7b08e3d5a70",
            "2d28c7fad192445baf297afb419fb08e",
            "7d00a40d243e46818a12ce87736ec8e0",
            "47b2c2be760f470bb25263d8f9491067",
            "22c666ae625a46659a254a7bd0be1419",
            "4c4be6e325a54710a3c55dd6e13a5348",
            "fe82bf6df8ca4e8cbf71f619c08aba4b",
            "c382022f7a46494cbc6bdbfa768a1f28",
            "3e35bd3f329e481fb39e8f969bc26b4b",
            "e52de94780454c82a0393290d8279b5f",
            "a1592d19c61f4a1c84bb152a68aaa323",
            "8cc8eee7fb364b9386bccbfbd9d6cb47",
            "50f8be48c7094c47bf5d101ee4f7dea4",
            "773e34c5ec374c7ba0a4ff0ea90549b4",
            "2639afd945dc41b0a594adfe72e3c260",
            "d5497467aeb44ec38320f1132d28d09f",
            "1307356473de4f10a3a21760818bdeea",
            "22843660d7b84f6eb10ddc31b6db9fdd",
            "b634d12a59c94479a6803fed95c31f9f",
            "ed047131a27541dabe8eec875cae702d",
            "94937e1978ff446cb02eb430463141ce",
            "5ec5fbd3e62e4187b2e7c86e7f4a5315",
            "f19b116f526840a593566a369a1e020d",
            "82fd8343df234e86acc50d266644f0fd",
            "be8647cab03d45b1a81a3cb937c32dd6",
            "51a34de24f4a4776bbd766b313eaaf6c",
            "1b1c0c05d0604b32b6144a1724eae9d5",
            "8bc5cd3db8744e9e8f3e24e216e4b8d0",
            "3b4bcc5f3a2f41588ae31238132f9aa8",
            "07752b2caad642b2870cb5966d703b9d",
            "0e0fefa26ced4798af4c4da8e769d94a",
            "e8b022a73a8a49e1b05a2c065269b011",
            "0b92f943c366429780747a89cd513b5d",
            "86ed0875e3144435bfefa907367fb997",
            "2568b33479e7417bacd707052976eefd",
            "c2f60ae6abe0424593a35673c53d4f9f",
            "84f6c007884b447cb78857f3c48a1eb2",
            "ccc822efce704c6bb85dd27e5f42faaf",
            "454a72d5192c43bcb057b3da5c32a4b4",
            "4358e26872e048a29f761687d324caf5",
            "d170978167ae4da786697444b886d8ad",
            "db7ed43aafc2423493d2c304e579aa16",
            "ba3887385a3842618aacd2f487ccb761"
          ]
        },
        "outputId": "d2e96b98-c8de-4c87-a7e8-35461b237a65"
      },
      "execution_count": null,
      "outputs": [
        {
          "output_type": "stream",
          "name": "stdout",
          "text": [
            "Data for Cross-Validation: 17712 samples\n",
            "Held-out Final Test Set: 4428 samples\n",
            "\n",
            "==================== FOLD 1/5 ====================\n"
          ]
        },
        {
          "output_type": "display_data",
          "data": {
            "text/plain": [
              "Fold 1, Epoch 1:   0%|          | 0/443 [00:00<?, ?it/s]"
            ],
            "application/vnd.jupyter.widget-view+json": {
              "version_major": 2,
              "version_minor": 0,
              "model_id": "50dbc44c384045ddbd77b3d19d0182e1"
            }
          },
          "metadata": {}
        },
        {
          "output_type": "stream",
          "name": "stdout",
          "text": [
            "Fold 1, Epoch 1 | Current Val Acc: 0.8244\n"
          ]
        },
        {
          "output_type": "display_data",
          "data": {
            "text/plain": [
              "Fold 1, Epoch 2:   0%|          | 0/443 [00:00<?, ?it/s]"
            ],
            "application/vnd.jupyter.widget-view+json": {
              "version_major": 2,
              "version_minor": 0,
              "model_id": "d02efdf1ea7b4b08903a4f4705bc5461"
            }
          },
          "metadata": {}
        },
        {
          "output_type": "stream",
          "name": "stdout",
          "text": [
            "Fold 1, Epoch 2 | Current Val Acc: 0.8318\n"
          ]
        },
        {
          "output_type": "display_data",
          "data": {
            "text/plain": [
              "Fold 1, Epoch 3:   0%|          | 0/443 [00:00<?, ?it/s]"
            ],
            "application/vnd.jupyter.widget-view+json": {
              "version_major": 2,
              "version_minor": 0,
              "model_id": "5c8f2abc3af742d7b865789c91d48d61"
            }
          },
          "metadata": {}
        },
        {
          "output_type": "stream",
          "name": "stdout",
          "text": [
            "Fold 1, Epoch 3 | Current Val Acc: 0.8400\n"
          ]
        },
        {
          "output_type": "display_data",
          "data": {
            "text/plain": [
              "Fold 1, Epoch 4:   0%|          | 0/443 [00:00<?, ?it/s]"
            ],
            "application/vnd.jupyter.widget-view+json": {
              "version_major": 2,
              "version_minor": 0,
              "model_id": "50461039854949d092db7d8aa7a0078e"
            }
          },
          "metadata": {}
        },
        {
          "output_type": "stream",
          "name": "stdout",
          "text": [
            "Fold 1, Epoch 4 | Current Val Acc: 0.8445\n"
          ]
        },
        {
          "output_type": "display_data",
          "data": {
            "text/plain": [
              "Fold 1, Epoch 5:   0%|          | 0/443 [00:00<?, ?it/s]"
            ],
            "application/vnd.jupyter.widget-view+json": {
              "version_major": 2,
              "version_minor": 0,
              "model_id": "040c3f6179714b89b2c50bee6e5d1a64"
            }
          },
          "metadata": {}
        },
        {
          "output_type": "stream",
          "name": "stdout",
          "text": [
            "Fold 1, Epoch 5 | Current Val Acc: 0.8383\n",
            "\u2705 Fold 1 Best Validation Accuracy: 0.8445\n",
            "\n",
            "==================== FOLD 2/5 ====================\n"
          ]
        },
        {
          "output_type": "display_data",
          "data": {
            "text/plain": [
              "Fold 2, Epoch 1:   0%|          | 0/443 [00:00<?, ?it/s]"
            ],
            "application/vnd.jupyter.widget-view+json": {
              "version_major": 2,
              "version_minor": 0,
              "model_id": "97d4f88ee4af4eb08e40bc17e96a9ed6"
            }
          },
          "metadata": {}
        },
        {
          "output_type": "stream",
          "name": "stdout",
          "text": [
            "Fold 2, Epoch 1 | Current Val Acc: 0.8134\n"
          ]
        },
        {
          "output_type": "display_data",
          "data": {
            "text/plain": [
              "Fold 2, Epoch 2:   0%|          | 0/443 [00:00<?, ?it/s]"
            ],
            "application/vnd.jupyter.widget-view+json": {
              "version_major": 2,
              "version_minor": 0,
              "model_id": "1d23b1f675454d11972edd7fb24573f7"
            }
          },
          "metadata": {}
        },
        {
          "output_type": "stream",
          "name": "stdout",
          "text": [
            "Fold 2, Epoch 2 | Current Val Acc: 0.8115\n"
          ]
        },
        {
          "output_type": "display_data",
          "data": {
            "text/plain": [
              "Fold 2, Epoch 3:   0%|          | 0/443 [00:00<?, ?it/s]"
            ],
            "application/vnd.jupyter.widget-view+json": {
              "version_major": 2,
              "version_minor": 0,
              "model_id": "ed0110c069254aaabe21df09b4254e7c"
            }
          },
          "metadata": {}
        },
        {
          "output_type": "stream",
          "name": "stdout",
          "text": [
            "Fold 2, Epoch 3 | Current Val Acc: 0.8394\n"
          ]
        },
        {
          "output_type": "display_data",
          "data": {
            "text/plain": [
              "Fold 2, Epoch 4:   0%|          | 0/443 [00:00<?, ?it/s]"
            ],
            "application/vnd.jupyter.widget-view+json": {
              "version_major": 2,
              "version_minor": 0,
              "model_id": "4818c991395448768b1c8ce5fa94b528"
            }
          },
          "metadata": {}
        },
        {
          "output_type": "stream",
          "name": "stdout",
          "text": [
            "Fold 2, Epoch 4 | Current Val Acc: 0.8470\n"
          ]
        },
        {
          "output_type": "display_data",
          "data": {
            "text/plain": [
              "Fold 2, Epoch 5:   0%|          | 0/443 [00:00<?, ?it/s]"
            ],
            "application/vnd.jupyter.widget-view+json": {
              "version_major": 2,
              "version_minor": 0,
              "model_id": "7fc45f186dfe489c8d9a06bf7a45dd49"
            }
          },
          "metadata": {}
        },
        {
          "output_type": "stream",
          "name": "stdout",
          "text": [
            "Fold 2, Epoch 5 | Current Val Acc: 0.8473\n",
            "\u2705 Fold 2 Best Validation Accuracy: 0.8473\n",
            "\n",
            "==================== FOLD 3/5 ====================\n"
          ]
        },
        {
          "output_type": "display_data",
          "data": {
            "text/plain": [
              "Fold 3, Epoch 1:   0%|          | 0/443 [00:00<?, ?it/s]"
            ],
            "application/vnd.jupyter.widget-view+json": {
              "version_major": 2,
              "version_minor": 0,
              "model_id": "8fd36e52017a44e39e73f12860ff7061"
            }
          },
          "metadata": {}
        },
        {
          "output_type": "stream",
          "name": "stdout",
          "text": [
            "Fold 3, Epoch 1 | Current Val Acc: 0.8230\n"
          ]
        },
        {
          "output_type": "display_data",
          "data": {
            "text/plain": [
              "Fold 3, Epoch 2:   0%|          | 0/443 [00:00<?, ?it/s]"
            ],
            "application/vnd.jupyter.widget-view+json": {
              "version_major": 2,
              "version_minor": 0,
              "model_id": "238c59217ec94898be6881997a07858d"
            }
          },
          "metadata": {}
        },
        {
          "output_type": "stream",
          "name": "stdout",
          "text": [
            "Fold 3, Epoch 2 | Current Val Acc: 0.8346\n"
          ]
        },
        {
          "output_type": "display_data",
          "data": {
            "text/plain": [
              "Fold 3, Epoch 3:   0%|          | 0/443 [00:00<?, ?it/s]"
            ],
            "application/vnd.jupyter.widget-view+json": {
              "version_major": 2,
              "version_minor": 0,
              "model_id": "69a8b6625d5e432ea7d5563d1f5d8212"
            }
          },
          "metadata": {}
        },
        {
          "output_type": "stream",
          "name": "stdout",
          "text": [
            "Fold 3, Epoch 3 | Current Val Acc: 0.8447\n"
          ]
        },
        {
          "output_type": "display_data",
          "data": {
            "text/plain": [
              "Fold 3, Epoch 4:   0%|          | 0/443 [00:00<?, ?it/s]"
            ],
            "application/vnd.jupyter.widget-view+json": {
              "version_major": 2,
              "version_minor": 0,
              "model_id": "389a65abf237451dab3e51a29f2580ed"
            }
          },
          "metadata": {}
        },
        {
          "output_type": "stream",
          "name": "stdout",
          "text": [
            "Fold 3, Epoch 4 | Current Val Acc: 0.8425\n"
          ]
        },
        {
          "output_type": "display_data",
          "data": {
            "text/plain": [
              "Fold 3, Epoch 5:   0%|          | 0/443 [00:00<?, ?it/s]"
            ],
            "application/vnd.jupyter.widget-view+json": {
              "version_major": 2,
              "version_minor": 0,
              "model_id": "378efee9959141fe9e0bcfce932d60cc"
            }
          },
          "metadata": {}
        },
        {
          "output_type": "stream",
          "name": "stdout",
          "text": [
            "Fold 3, Epoch 5 | Current Val Acc: 0.8408\n",
            "\u2705 Fold 3 Best Validation Accuracy: 0.8447\n",
            "\n",
            "==================== FOLD 4/5 ====================\n"
          ]
        },
        {
          "output_type": "display_data",
          "data": {
            "text/plain": [
              "Fold 4, Epoch 1:   0%|          | 0/443 [00:00<?, ?it/s]"
            ],
            "application/vnd.jupyter.widget-view+json": {
              "version_major": 2,
              "version_minor": 0,
              "model_id": "6f69064671f148169d5c86b33d5d692e"
            }
          },
          "metadata": {}
        },
        {
          "output_type": "stream",
          "name": "stdout",
          "text": [
            "Fold 4, Epoch 1 | Current Val Acc: 0.8216\n"
          ]
        },
        {
          "output_type": "display_data",
          "data": {
            "text/plain": [
              "Fold 4, Epoch 2:   0%|          | 0/443 [00:00<?, ?it/s]"
            ],
            "application/vnd.jupyter.widget-view+json": {
              "version_major": 2,
              "version_minor": 0,
              "model_id": "7fe386405ab646979f72618518a36ed1"
            }
          },
          "metadata": {}
        },
        {
          "output_type": "stream",
          "name": "stdout",
          "text": [
            "Fold 4, Epoch 2 | Current Val Acc: 0.8278\n"
          ]
        },
        {
          "output_type": "display_data",
          "data": {
            "text/plain": [
              "Fold 4, Epoch 3:   0%|          | 0/443 [00:00<?, ?it/s]"
            ],
            "application/vnd.jupyter.widget-view+json": {
              "version_major": 2,
              "version_minor": 0,
              "model_id": "4ee0d290a066403b9fbd1bfaeb8d9d3b"
            }
          },
          "metadata": {}
        },
        {
          "output_type": "stream",
          "name": "stdout",
          "text": [
            "Fold 4, Epoch 3 | Current Val Acc: 0.8354\n"
          ]
        },
        {
          "output_type": "display_data",
          "data": {
            "text/plain": [
              "Fold 4, Epoch 4:   0%|          | 0/443 [00:00<?, ?it/s]"
            ],
            "application/vnd.jupyter.widget-view+json": {
              "version_major": 2,
              "version_minor": 0,
              "model_id": "29bb4c3bde674434a6b827453f94f63f"
            }
          },
          "metadata": {}
        },
        {
          "output_type": "stream",
          "name": "stdout",
          "text": [
            "Fold 4, Epoch 4 | Current Val Acc: 0.8405\n"
          ]
        },
        {
          "output_type": "display_data",
          "data": {
            "text/plain": [
              "Fold 4, Epoch 5:   0%|          | 0/443 [00:00<?, ?it/s]"
            ],
            "application/vnd.jupyter.widget-view+json": {
              "version_major": 2,
              "version_minor": 0,
              "model_id": "ebfb9b13d3294b0dbd276c8061d83464"
            }
          },
          "metadata": {}
        },
        {
          "output_type": "stream",
          "name": "stdout",
          "text": [
            "Fold 4, Epoch 5 | Current Val Acc: 0.8470\n",
            "\u2705 Fold 4 Best Validation Accuracy: 0.8470\n",
            "\n",
            "==================== FOLD 5/5 ====================\n"
          ]
        },
        {
          "output_type": "display_data",
          "data": {
            "text/plain": [
              "Fold 5, Epoch 1:   0%|          | 0/443 [00:00<?, ?it/s]"
            ],
            "application/vnd.jupyter.widget-view+json": {
              "version_major": 2,
              "version_minor": 0,
              "model_id": "7d00f64fc083418688551e1dac339b53"
            }
          },
          "metadata": {}
        },
        {
          "output_type": "stream",
          "name": "stdout",
          "text": [
            "Fold 5, Epoch 1 | Current Val Acc: 0.8224\n"
          ]
        },
        {
          "output_type": "display_data",
          "data": {
            "text/plain": [
              "Fold 5, Epoch 2:   0%|          | 0/443 [00:00<?, ?it/s]"
            ],
            "application/vnd.jupyter.widget-view+json": {
              "version_major": 2,
              "version_minor": 0,
              "model_id": "aec1ba21fcb44975a926a6577143392e"
            }
          },
          "metadata": {}
        },
        {
          "output_type": "stream",
          "name": "stdout",
          "text": [
            "Fold 5, Epoch 2 | Current Val Acc: 0.8204\n"
          ]
        },
        {
          "output_type": "display_data",
          "data": {
            "text/plain": [
              "Fold 5, Epoch 3:   0%|          | 0/443 [00:00<?, ?it/s]"
            ],
            "application/vnd.jupyter.widget-view+json": {
              "version_major": 2,
              "version_minor": 0,
              "model_id": "a1592d19c61f4a1c84bb152a68aaa323"
            }
          },
          "metadata": {}
        },
        {
          "output_type": "stream",
          "name": "stdout",
          "text": [
            "Fold 5, Epoch 3 | Current Val Acc: 0.8464\n"
          ]
        },
        {
          "output_type": "display_data",
          "data": {
            "text/plain": [
              "Fold 5, Epoch 4:   0%|          | 0/443 [00:00<?, ?it/s]"
            ],
            "application/vnd.jupyter.widget-view+json": {
              "version_major": 2,
              "version_minor": 0,
              "model_id": "5ec5fbd3e62e4187b2e7c86e7f4a5315"
            }
          },
          "metadata": {}
        },
        {
          "output_type": "stream",
          "name": "stdout",
          "text": [
            "Fold 5, Epoch 4 | Current Val Acc: 0.8529\n"
          ]
        },
        {
          "output_type": "display_data",
          "data": {
            "text/plain": [
              "Fold 5, Epoch 5:   0%|          | 0/443 [00:00<?, ?it/s]"
            ],
            "application/vnd.jupyter.widget-view+json": {
              "version_major": 2,
              "version_minor": 0,
              "model_id": "0b92f943c366429780747a89cd513b5d"
            }
          },
          "metadata": {}
        },
        {
          "output_type": "stream",
          "name": "stdout",
          "text": [
            "Fold 5, Epoch 5 | Current Val Acc: 0.8439\n",
            "\u2705 Fold 5 Best Validation Accuracy: 0.8529\n",
            "\n",
            "\n",
            "==================================================\n",
            "Cross-Validation Results\n",
            "==================================================\n",
            "Best Validation Accuracies for each fold: ['0.8445', '0.8473', '0.8447', '0.8470', '0.8529']\n",
            "\ud83c\udfaf Mean Validation Accuracy: 0.8473\n",
            "\ud83d\udcca Standard Deviation: 0.0030\n"
          ]
        }
      ]
    },
    {
      "cell_type": "code",
      "source": [
        "# ==============================\n",
        "# 8. External Verification API\n",
        "# ==============================\n",
        "def google_fact_check_api(text, api_key):\n",
        "    if not api_key:\n",
        "        return \"VERDICT: API KEY NOT PROVIDED\"\n",
        "    url = \"https://factchecktools.googleapis.com/v1alpha1/claims:search\"\n",
        "    params = {'query': text, 'key': api_key, 'languageCode': 'en'}\n",
        "    negative_verdicts = [\"false\", \"untrue\", \"misleading\", \"incorrect\", \"pants on fire\"]\n",
        "    try:\n",
        "        response = requests.get(url, params=params)\n",
        "        response.raise_for_status()\n",
        "        data = response.json()\n",
        "        if 'claims' in data and data['claims']:\n",
        "            for claim in data['claims'][0]['claimReview']:\n",
        "                verdict = claim['textualRating'].lower()\n",
        "                if any(neg_verdict in verdict for neg_verdict in negative_verdicts):\n",
        "                    return f\"VERDICT: FALSE (Source: {claim['publisher']['name']})\"\n",
        "        return \"VERDICT: NOT SURE\"\n",
        "    except Exception:\n",
        "        return \"VERDICT: API ERROR\""
      ],
      "metadata": {
        "id": "3KRFlFCL3YMG"
      },
      "execution_count": null,
      "outputs": []
    },
    {
      "cell_type": "code",
      "source": [
        "# ==============================\n",
        "# 9. Gradio Interface with API\n",
        "# ==============================\n",
        "# Load the fully trained model for the interface\n",
        "model = CCFM().to(device)\n",
        "model.load_state_dict(torch.load(final_model_path))\n",
        "model.eval()\n",
        "\n",
        "def predict_news_hybrid(text, image, api_key):\n",
        "    if not text.strip():\n",
        "        return \"Please enter a headline.\", {}\n",
        "\n",
        "    # --- Internal Model Prediction ---\n",
        "    enc = tokenizer(text, return_tensors=\"pt\", padding=\"max_length\", truncation=True, max_length=128)\n",
        "    if image is None:\n",
        "        img = Image.new(\"RGB\", (224, 224), \"black\")\n",
        "    else:\n",
        "        img = image.convert(\"RGB\")\n",
        "    img = val_test_transform(img).unsqueeze(0)\n",
        "\n",
        "    with torch.no_grad():\n",
        "        out = model(enc[\"input_ids\"].to(device), enc[\"attention_mask\"].to(device), img.to(device))\n",
        "        probs = torch.softmax(out, dim=1).cpu().numpy()[0]\n",
        "        internal_verdict = \"FAKE\" if np.argmax(probs) == 1 else \"REAL\"\n",
        "\n",
        "    # --- External API Verification ---\n",
        "    external_verdict = google_fact_check_api(text, api_key)\n",
        "\n",
        "    # --- Final Verdict Logic ---\n",
        "    final_verdict = internal_verdict\n",
        "    if \"FALSE\" in external_verdict:\n",
        "        final_verdict = \"FAKE\"\n",
        "\n",
        "    # --- Format Output ---\n",
        "    report = {\n",
        "        \"Internal Model Verdict\": internal_verdict,\n",
        "        \"REAL Probability\": f\"{float(probs[0]):.4f}\",\n",
        "        \"FAKE Probability\": f\"{float(probs[1]):.4f}\",\n",
        "        \"External Fact-Check\": external_verdict,\n",
        "        \"Final Verdict\": final_verdict\n",
        "    }\n",
        "    return final_verdict, report\n",
        "\n",
        "# --- Build the Interface ---\n",
        "with gr.Blocks(theme=gr.themes.Soft()) as demo:\n",
        "    gr.Markdown(\"# \ud83d\udd0d Hybrid Fake News Detector\")\n",
        "    gr.Markdown(\"This tool uses a locally trained AI model and the Google Fact Check API to analyze news headlines.\")\n",
        "    with gr.Row():\n",
        "        with gr.Column(scale=2):\n",
        "            news_input = gr.Textbox(label=\"Enter News Headline\", placeholder=\"e.g., Shocking new discovery changes everything...\")\n",
        "            img_input = gr.Image(type=\"pil\", label=\"Optional Image\")\n",
        "            api_key_input = gr.Textbox(label=\"Enter Google API Key\", type=\"password\", placeholder=\"Paste your API key here for external fact-checking...\")\n",
        "            submit_btn = gr.Button(\"Analyze\", variant=\"primary\")\n",
        "        with gr.Column(scale=1):\n",
        "            output_label = gr.Label(label=\"Final Verdict\")\n",
        "            output_json = gr.JSON(label=\"Full Analysis Report\")\n",
        "\n",
        "    submit_btn.click(\n",
        "        fn=predict_news_hybrid,\n",
        "        inputs=[news_input, img_input, api_key_input],\n",
        "        outputs=[output_label, output_json]\n",
        "    )\n",
        "\n",
        "print(\"Launching Gradio Interface...\")\n",
        "demo.launch(share=True, debug=True)"
      ],
      "metadata": {
        "id": "PsTg_Tby3eGC",
        "colab": {
          "base_uri": "https://localhost:8080/",
          "height": 211
        },
        "outputId": "f7d483e4-6ddd-401e-df8b-46d718d6fa77"
      },
      "execution_count": null,
      "outputs": [
        {
          "output_type": "error",
          "ename": "NameError",
          "evalue": "name 'final_model_path' is not defined",
          "traceback": [
            "\u001b[0;31m---------------------------------------------------------------------------\u001b[0m",
            "\u001b[0;31mNameError\u001b[0m                                 Traceback (most recent call last)",
            "\u001b[0;32m/tmp/ipython-input-843668721.py\u001b[0m in \u001b[0;36m<cell line: 0>\u001b[0;34m()\u001b[0m\n\u001b[1;32m      4\u001b[0m \u001b[0;31m# Load the fully trained model for the interface\u001b[0m\u001b[0;34m\u001b[0m\u001b[0;34m\u001b[0m\u001b[0m\n\u001b[1;32m      5\u001b[0m \u001b[0mmodel\u001b[0m \u001b[0;34m=\u001b[0m \u001b[0mCCFM\u001b[0m\u001b[0;34m(\u001b[0m\u001b[0;34m)\u001b[0m\u001b[0;34m.\u001b[0m\u001b[0mto\u001b[0m\u001b[0;34m(\u001b[0m\u001b[0mdevice\u001b[0m\u001b[0;34m)\u001b[0m\u001b[0;34m\u001b[0m\u001b[0;34m\u001b[0m\u001b[0m\n\u001b[0;32m----> 6\u001b[0;31m \u001b[0mmodel\u001b[0m\u001b[0;34m.\u001b[0m\u001b[0mload_state_dict\u001b[0m\u001b[0;34m(\u001b[0m\u001b[0mtorch\u001b[0m\u001b[0;34m.\u001b[0m\u001b[0mload\u001b[0m\u001b[0;34m(\u001b[0m\u001b[0mfinal_model_path\u001b[0m\u001b[0;34m)\u001b[0m\u001b[0;34m)\u001b[0m\u001b[0;34m\u001b[0m\u001b[0;34m\u001b[0m\u001b[0m\n\u001b[0m\u001b[1;32m      7\u001b[0m \u001b[0mmodel\u001b[0m\u001b[0;34m.\u001b[0m\u001b[0meval\u001b[0m\u001b[0;34m(\u001b[0m\u001b[0;34m)\u001b[0m\u001b[0;34m\u001b[0m\u001b[0;34m\u001b[0m\u001b[0m\n\u001b[1;32m      8\u001b[0m \u001b[0;34m\u001b[0m\u001b[0m\n",
            "\u001b[0;31mNameError\u001b[0m: name 'final_model_path' is not defined"
          ]
        }
      ]
    }
  ]
}